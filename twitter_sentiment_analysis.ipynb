{
  "metadata": {
    "kernelspec": {
      "language": "python",
      "display_name": "Python 3",
      "name": "python3"
    },
    "language_info": {
      "pygments_lexer": "ipython3",
      "nbconvert_exporter": "python",
      "version": "3.6.4",
      "file_extension": ".py",
      "codemirror_mode": {
        "name": "ipython",
        "version": 3
      },
      "name": "python",
      "mimetype": "text/x-python"
    },
    "colab": {
      "name": "twitter sentiment analysis.ipynb",
      "provenance": []
    }
  },
  "nbformat_minor": 0,
  "nbformat": 4,
  "cells": [
    {
      "cell_type": "markdown",
      "source": [
        "## IMPORTING  LIBRARIES"
      ],
      "metadata": {
        "id": "Nr01yLZPa_Qa"
      }
    },
    {
      "cell_type": "code",
      "source": [
        "\n",
        "import pandas as pd\n",
        "import numpy as np\n",
        "import matplotlib.pyplot as plt\n",
        "import seaborn as sn\n",
        "import re\n",
        "import nltk\n",
        "from tqdm import tqdm\n",
        "import scipy\n",
        "from sklearn.feature_extraction.text import TfidfVectorizer\n",
        "from sklearn.feature_extraction.text import CountVectorizer\n",
        "\n",
        "from sklearn.model_selection import RandomizedSearchCV\n",
        "\n",
        "from sklearn.metrics import roc_curve, auc\n",
        "from sklearn.metrics import roc_auc_score\n",
        "import nltk\n",
        "from nltk.sentiment.vader import SentimentIntensityAnalyzer\n",
        "from sklearn.tree import DecisionTreeClassifier\n",
        "\n",
        "from sklearn.metrics import f1_score\n",
        "from sklearn.model_selection import train_test_split\n",
        "from sklearn.metrics import classification_report"
      ],
      "metadata": {
        "trusted": true,
        "id": "VECo7bQxa_Qf"
      },
      "execution_count": 42,
      "outputs": []
    },
    {
      "cell_type": "markdown",
      "source": [
        "Data Visualization"
      ],
      "metadata": {
        "id": "xfYPugFarPX1"
      }
    },
    {
      "cell_type": "code",
      "source": [
        "#loading the data\n",
        "df=pd.read_csv('/content/train.csv')"
      ],
      "metadata": {
        "trusted": true,
        "id": "tq4DN8C8a_Qh"
      },
      "execution_count": 43,
      "outputs": []
    },
    {
      "cell_type": "code",
      "source": [
        "print(df.shape)   #check the shape of the data"
      ],
      "metadata": {
        "trusted": true,
        "id": "i7dMPQyva_Qh",
        "colab": {
          "base_uri": "https://localhost:8080/"
        },
        "outputId": "810f7fe2-f321-4f7f-c6ba-7ab177495d8e"
      },
      "execution_count": 44,
      "outputs": [
        {
          "output_type": "stream",
          "name": "stdout",
          "text": [
            "(31962, 3)\n"
          ]
        }
      ]
    },
    {
      "cell_type": "code",
      "source": [
        "print(df.head())"
      ],
      "metadata": {
        "trusted": true,
        "id": "sREHsM9Ma_Qh",
        "colab": {
          "base_uri": "https://localhost:8080/"
        },
        "outputId": "eb3f903a-1724-4522-df45-cee2c558479e"
      },
      "execution_count": 45,
      "outputs": [
        {
          "output_type": "stream",
          "name": "stdout",
          "text": [
            "   id  label                                              tweet\n",
            "0   1      0   @user when a father is dysfunctional and is s...\n",
            "1   2      0  @user @user thanks for #lyft credit i can't us...\n",
            "2   3      0                                bihday your majesty\n",
            "3   4      0  #model   i love u take with u all the time in ...\n",
            "4   5      0             factsguide: society now    #motivation\n"
          ]
        }
      ]
    },
    {
      "cell_type": "code",
      "source": [
        "print(df.info())"
      ],
      "metadata": {
        "trusted": true,
        "id": "npJBPPjsa_Qi",
        "colab": {
          "base_uri": "https://localhost:8080/"
        },
        "outputId": "06ec4568-4985-4a0f-9a33-9c5606fafb58"
      },
      "execution_count": 46,
      "outputs": [
        {
          "output_type": "stream",
          "name": "stdout",
          "text": [
            "<class 'pandas.core.frame.DataFrame'>\n",
            "RangeIndex: 31962 entries, 0 to 31961\n",
            "Data columns (total 3 columns):\n",
            " #   Column  Non-Null Count  Dtype \n",
            "---  ------  --------------  ----- \n",
            " 0   id      31962 non-null  int64 \n",
            " 1   label   31962 non-null  int64 \n",
            " 2   tweet   31962 non-null  object\n",
            "dtypes: int64(2), object(1)\n",
            "memory usage: 749.2+ KB\n",
            "None\n"
          ]
        }
      ]
    },
    {
      "cell_type": "code",
      "source": [
        "df['label'].value_counts()"
      ],
      "metadata": {
        "trusted": true,
        "id": "z-wuF5haa_Qi",
        "colab": {
          "base_uri": "https://localhost:8080/"
        },
        "outputId": "46097cdf-501b-4e1e-ee60-3d74cd1b7b80"
      },
      "execution_count": 47,
      "outputs": [
        {
          "output_type": "execute_result",
          "data": {
            "text/plain": [
              "0    29720\n",
              "1     2242\n",
              "Name: label, dtype: int64"
            ]
          },
          "metadata": {},
          "execution_count": 47
        }
      ]
    },
    {
      "cell_type": "markdown",
      "source": [
        "We can observe that there are more reviews with 0 label i.e. tweet is not racist/sexist.<br>\n",
        "So our dataset is imbalanced"
      ],
      "metadata": {
        "id": "8vyo-9Xva_Qj"
      }
    },
    {
      "cell_type": "code",
      "source": [
        "y_value_counts=df['label'].value_counts()\n",
        "print(\"Racist tweets  = \",y_value_counts[1], \"with percentage \", (y_value_counts[1]*100)/(y_value_counts[0]+y_value_counts[1]),'%')\n",
        "print(\"Not Racist tweets  = \",y_value_counts[0], \"with percentage \", (y_value_counts[0]*100)/(y_value_counts[0]+y_value_counts[1]),'%')"
      ],
      "metadata": {
        "trusted": true,
        "colab": {
          "base_uri": "https://localhost:8080/"
        },
        "id": "0aynodf8a_Qj",
        "outputId": "bfde793c-4336-4e2c-cf1f-83862b9ad155"
      },
      "execution_count": 48,
      "outputs": [
        {
          "output_type": "stream",
          "name": "stdout",
          "text": [
            "Racist tweets  =  2242 with percentage  7.014579813528565 %\n",
            "Not Racist tweets  =  29720 with percentage  92.98542018647143 %\n"
          ]
        }
      ]
    },
    {
      "cell_type": "code",
      "source": [
        "#lets see the classes through bar graph\n",
        "\n",
        "data=dict(racist=y_value_counts[1],not_racist=y_value_counts[0])\n",
        "cls=data.keys()\n",
        "value=data.values()\n",
        "\n",
        "plt.bar(cls,value,color='maroon',width=0.2)"
      ],
      "metadata": {
        "trusted": true,
        "colab": {
          "base_uri": "https://localhost:8080/",
          "height": 283
        },
        "id": "9Y71BtGAa_Qk",
        "outputId": "44b01892-ac2f-4aba-883c-47cee52b003e"
      },
      "execution_count": 49,
      "outputs": [
        {
          "output_type": "execute_result",
          "data": {
            "text/plain": [
              "<BarContainer object of 2 artists>"
            ]
          },
          "metadata": {},
          "execution_count": 49
        },
        {
          "output_type": "display_data",
          "data": {
            "text/plain": [
              "<Figure size 432x288 with 1 Axes>"
            ],
            "image/png": "[encoded data removed]"
          },
          "metadata": {
            "needs_background": "light"
          }
        }
      ]
    },
    {
      "cell_type": "markdown",
      "source": [
        "***From the bar graph we can clearly see that there are more not racist tweets than the racist tweets.***"
      ],
      "metadata": {
        "id": "4e4H30j-a_Qk"
      }
    },
    {
      "cell_type": "markdown",
      "source": [
        "## Data Preprocessing"
      ],
      "metadata": {
        "id": "SI6xG0mpa_Ql"
      }
    },
    {
      "cell_type": "markdown",
      "source": [
        "Since the data is in text format, we have to preprocess the data and clean the data to vectorize the data."
      ],
      "metadata": {
        "id": "FaUE7m03a_Ql"
      }
    },
    {
      "cell_type": "markdown",
      "source": [
        "First we will replace the all blank spaces, - with underscore and convert all the letters to lower case."
      ],
      "metadata": {
        "id": "Bjokfq7Oa_Ql"
      }
    },
    {
      "cell_type": "code",
      "source": [
        "df['tweet']=df['tweet'].str.replace(' ','_')\n",
        "df['tweet']=df['tweet'].str.replace('-','_')\n",
        "df['tweet']=df['tweet'].str.lower()"
      ],
      "metadata": {
        "trusted": true,
        "id": "QIlcOJQ0a_Ql"
      },
      "execution_count": 51,
      "outputs": []
    },
    {
      "cell_type": "code",
      "source": [
        "#This function will replace english short notations with full form\n",
        "def expand(sent):\n",
        "    \n",
        "    \n",
        "    sent=re.sub(r\"can't\", \"can not\",sent)\n",
        "    sent=re.sub(r\"won't\", \"will not\",sent)\n",
        "    \n",
        "    sent=re.sub(r\"n\\'t\", \" not\",sent)\n",
        "    sent=re.sub(r\"\\'re\", \" are\",sent)\n",
        "    sent=re.sub(r\"\\'m\",\" am\",sent)\n",
        "    sent=re.sub(r\"\\'s\",\" is\",sent)\n",
        "    sent=re.sub(r\"\\'ll\",\" will\",sent)\n",
        "    sent=re.sub(r\"\\'ve\",\" have\",sent)\n",
        "    sent=re.sub(r\"\\'d\",\" would\",sent)\n",
        "    sent=re.sub(r\"\\'t\", \" not\",sent)\n",
        "    \n",
        "    return sent\n",
        "    "
      ],
      "metadata": {
        "trusted": true,
        "id": "-oqSsMjMa_Qm"
      },
      "execution_count": 53,
      "outputs": []
    },
    {
      "cell_type": "code",
      "source": [
        "# we are removing the words from the stop words list: 'no', 'nor', 'not'\n",
        "\n",
        "stopwords= ['i', 'me', 'my', 'myself', 'we', 'our', 'ours', 'ourselves', 'you', \"you're\", \"you've\",\\\n",
        "            \"you'll\", \"you'd\", 'your', 'yours', 'yourself', 'yourselves', 'he', 'him', 'his', 'himself', \\\n",
        "            'she', \"she's\", 'her', 'hers', 'herself', 'it', \"it's\", 'its', 'itself', 'they', 'them', 'their',\\\n",
        "            'theirs', 'themselves', 'what', 'which', 'who', 'whom', 'this', 'that', \"that'll\", 'these', 'those', \\\n",
        "            'am', 'is', 'are', 'was', 'were', 'be', 'been', 'being', 'have', 'has', 'had', 'having', 'do', 'does', \\\n",
        "            'did', 'doing', 'a', 'an', 'the', 'and', 'but', 'if', 'or', 'because', 'as', 'until', 'while', 'of', \\\n",
        "            'at', 'by', 'for', 'with', 'about', 'against', 'between', 'into', 'through', 'during', 'before', 'after',\\\n",
        "            'above', 'below', 'to', 'from', 'up', 'down', 'in', 'out', 'on', 'off', 'over', 'under', 'again', 'further',\\\n",
        "            'then', 'once', 'here', 'there', 'when', 'where', 'why', 'how', 'all', 'any', 'both', 'each', 'few', 'more',\\\n",
        "            'most', 'other', 'some', 'such', 'only', 'own', 'same', 'so', 'than', 'too', 'very', \\\n",
        "            's', 't', 'can', 'will', 'just', 'don', \"don't\", 'should', \"should've\", 'now', 'd', 'll', 'm', 'o', 're', \\\n",
        "            've', 'y', 'ain', 'aren', \"aren't\", 'couldn', \"couldn't\", 'didn', \"didn't\", 'doesn', \"doesn't\", 'hadn',\\\n",
        "            \"hadn't\", 'hasn', \"hasn't\", 'haven', \"haven't\", 'isn', \"isn't\", 'ma', 'mightn', \"mightn't\", 'mustn',\\\n",
        "            \"mustn't\", 'needn', \"needn't\", 'shan', \"shan't\", 'shouldn', \"shouldn't\", 'wasn', \"wasn't\", 'weren', \"weren't\", \\\n",
        "            'won', \"won't\", 'wouldn', \"wouldn't\"]"
      ],
      "metadata": {
        "trusted": true,
        "id": "fu3C3XqWa_Qm"
      },
      "execution_count": 55,
      "outputs": []
    },
    {
      "cell_type": "code",
      "source": [
        "#function for preprocess the text data\n",
        "\n",
        "def preprocess_tweet(text):\n",
        "    \n",
        "    \n",
        "    preprocessed_tweet=[]\n",
        "    \n",
        "    for sentence in tqdm(text):\n",
        "        sent=expand(sentence)\n",
        "        sent=sent.replace(\"\\\\r\",\" \")\n",
        "        sent=sent.replace(\"\\\\n\",\" \")\n",
        "        sent=sent.replace('\\\\\"',\" \")\n",
        "        sent=re.sub(\"[^A-Za-z0-9]+\",\" \",sent)\n",
        "        \n",
        "        \n",
        "        sent=\" \".join(i for i in sent.split() if i.lower() not in stopwords)\n",
        "        preprocessed_tweet.append(sent.lower().strip())\n",
        "        \n",
        "    return preprocessed_tweet\n",
        "        "
      ],
      "metadata": {
        "trusted": true,
        "id": "BSsqDbe3a_Qn"
      },
      "execution_count": 56,
      "outputs": []
    },
    {
      "cell_type": "code",
      "source": [
        "preprocessed_tweets=preprocess_tweet(df['tweet'].values)"
      ],
      "metadata": {
        "trusted": true,
        "colab": {
          "base_uri": "https://localhost:8080/"
        },
        "id": "M4S_qfAKa_Qn",
        "outputId": "8661a640-14e2-4cac-d600-6184c4494d12"
      },
      "execution_count": 57,
      "outputs": [
        {
          "output_type": "stream",
          "name": "stderr",
          "text": [
            "100%|██████████| 31962/31962 [00:01<00:00, 17702.02it/s]\n"
          ]
        }
      ]
    },
    {
      "cell_type": "code",
      "source": [
        "df['tweet']=preprocessed_tweets"
      ],
      "metadata": {
        "trusted": true,
        "id": "drZMcjMca_Qn"
      },
      "execution_count": 58,
      "outputs": []
    },
    {
      "cell_type": "code",
      "source": [
        "df[\"tweet\"][10]"
      ],
      "metadata": {
        "trusted": true,
        "colab": {
          "base_uri": "https://localhost:8080/",
          "height": 36
        },
        "id": "PRiOnIBDa_Qn",
        "outputId": "27742cd7-3187-43b6-8193-b61688b35f46"
      },
      "execution_count": 59,
      "outputs": [
        {
          "output_type": "execute_result",
          "data": {
            "text/plain": [
              "'ireland consumer price index mom climbed previous 0 2 0 5 may blog silver gold forex'"
            ],
            "application/vnd.google.colaboratory.intrinsic+json": {
              "type": "string"
            }
          },
          "metadata": {},
          "execution_count": 59
        }
      ]
    },
    {
      "cell_type": "markdown",
      "source": [
        "##### Now the text data is cleaned"
      ],
      "metadata": {
        "id": "1McPbkg_a_Qo"
      }
    },
    {
      "cell_type": "markdown",
      "source": [
        "### Splitting data into train and test"
      ],
      "metadata": {
        "id": "VmNhW-Bja_Qo"
      }
    },
    {
      "cell_type": "code",
      "source": [
        "y=df['label']\n",
        "x=df.drop(['label'],axis=1)\n",
        "\n",
        "x_train,x_test,y_train,y_test=train_test_split(x,y,test_size=0.2,stratify=y,random_state=40)\n"
      ],
      "metadata": {
        "trusted": true,
        "id": "ZOgtOp0ua_Qo"
      },
      "execution_count": 60,
      "outputs": []
    },
    {
      "cell_type": "markdown",
      "source": [
        "### Vectorization"
      ],
      "metadata": {
        "id": "u9_r42-Aa_Qo"
      }
    },
    {
      "cell_type": "markdown",
      "source": [
        "#### TFIDF for text data"
      ],
      "metadata": {
        "id": "n9yYgJf8a_Qp"
      }
    },
    {
      "cell_type": "code",
      "source": [
        "vect=TfidfVectorizer(min_df=10)\n",
        "\n",
        "vect.fit(x_train['tweet'].values)\n",
        "\n",
        "train_tweet=vect.transform(x_train['tweet'].values)\n",
        "test_tweet=vect.transform(x_test['tweet'].values)\n",
        "\n",
        "print(train_tweet.shape,y_train.shape)\n",
        "print(test_tweet.shape,y_test.shape)"
      ],
      "metadata": {
        "trusted": true,
        "colab": {
          "base_uri": "https://localhost:8080/"
        },
        "id": "8QTiqe_na_Qp",
        "outputId": "1ab1303b-7e2e-4b23-c7ee-6f9e32545df1"
      },
      "execution_count": 62,
      "outputs": [
        {
          "output_type": "stream",
          "name": "stdout",
          "text": [
            "(25569, 2763) (25569,)\n",
            "(6393, 2763) (6393,)\n"
          ]
        }
      ]
    },
    {
      "cell_type": "code",
      "source": [
        "import nltk\n",
        "nltk.download('vader_lexicon')"
      ],
      "metadata": {
        "trusted": true,
        "colab": {
          "base_uri": "https://localhost:8080/"
        },
        "id": "-8_rHNh4a_Qp",
        "outputId": "f55ba7f7-df04-4dfa-a024-1dd4a7b12969"
      },
      "execution_count": 63,
      "outputs": [
        {
          "output_type": "stream",
          "name": "stdout",
          "text": [
            "[nltk_data] Downloading package vader_lexicon to /root/nltk_data...\n",
            "[nltk_data]   Package vader_lexicon is already up-to-date!\n"
          ]
        },
        {
          "output_type": "execute_result",
          "data": {
            "text/plain": [
              "True"
            ]
          },
          "metadata": {},
          "execution_count": 63
        }
      ]
    },
    {
      "cell_type": "code",
      "source": [
        "#calculating sentiment scores for train data\n",
        "\n",
        "x_train_sent=np.ndarray.tolist(x_train[\"tweet\"].values)\n",
        "\n",
        "sia=SentimentIntensityAnalyzer()\n",
        "ps=[]\n",
        "for i in range(len(x_train_sent)):\n",
        "    ps.append((sia.polarity_scores((x_train_sent[i]))))\n",
        "    \n",
        "x_train_polarity=np.array(ps)\n",
        "x_train_polarity=x_train_polarity.reshape(-1,1)\n",
        "x_train_polarity.shape\n"
      ],
      "metadata": {
        "trusted": true,
        "colab": {
          "base_uri": "https://localhost:8080/"
        },
        "id": "yZjIgoJha_Qp",
        "outputId": "52c4da31-42b3-4b42-e5db-e778fb293ac0"
      },
      "execution_count": 64,
      "outputs": [
        {
          "output_type": "execute_result",
          "data": {
            "text/plain": [
              "(25569, 1)"
            ]
          },
          "metadata": {},
          "execution_count": 64
        }
      ]
    },
    {
      "cell_type": "code",
      "source": [
        "#storing only scores of sentiment\n",
        "\n",
        "x_t=[]\n",
        "for i in range(len(x_train)):\n",
        "    for j in x_train_polarity[0][0]:\n",
        "        x_t.append(x_train_polarity[i][0][j])\n",
        "x_t=np.array(x_t)\n",
        "x_t=x_t.reshape(-1,4)\n",
        "x_t.shape"
      ],
      "metadata": {
        "trusted": true,
        "colab": {
          "base_uri": "https://localhost:8080/"
        },
        "id": "yQUBo14ca_Qp",
        "outputId": "e831578e-e624-400f-9481-598191707715"
      },
      "execution_count": 66,
      "outputs": [
        {
          "output_type": "execute_result",
          "data": {
            "text/plain": [
              "(25569, 4)"
            ]
          },
          "metadata": {},
          "execution_count": 66
        }
      ]
    },
    {
      "cell_type": "code",
      "source": [
        "#calculating sentiment scores for test data\n",
        "\n",
        "x_test_sent=np.ndarray.tolist(x_test[\"tweet\"].values)\n",
        "\n",
        "sia=SentimentIntensityAnalyzer()\n",
        "ps=[]\n",
        "for i in range(len(x_test_sent)):\n",
        "    ps.append((sia.polarity_scores((x_test_sent[i]))))\n",
        "    \n",
        "x_test_polarity=np.array(ps)\n",
        "x_test_polarity=x_test_polarity.reshape(-1,1)\n",
        "x_test_polarity.shape\n"
      ],
      "metadata": {
        "trusted": true,
        "colab": {
          "base_uri": "https://localhost:8080/"
        },
        "id": "7QqH9TFia_Qq",
        "outputId": "695058e0-7b21-4ed0-dbea-3296122c266f"
      },
      "execution_count": 67,
      "outputs": [
        {
          "output_type": "execute_result",
          "data": {
            "text/plain": [
              "(6393, 1)"
            ]
          },
          "metadata": {},
          "execution_count": 67
        }
      ]
    },
    {
      "cell_type": "code",
      "source": [
        "#storing only scores of sentiment\n",
        "\n",
        "x_tests=[]\n",
        "for i in range(len(x_test)):\n",
        "    for j in x_test_polarity[0][0]:\n",
        "        x_tests.append(x_test_polarity[i][0][j])\n",
        "x_tests=np.array(x_tests)\n",
        "x_tests=x_tests.reshape(-1,4)\n",
        "x_tests.shape"
      ],
      "metadata": {
        "trusted": true,
        "colab": {
          "base_uri": "https://localhost:8080/"
        },
        "id": "mtyOhohEa_Qq",
        "outputId": "3fcc64cf-0bb9-4d29-de55-1bc1a284543f"
      },
      "execution_count": 68,
      "outputs": [
        {
          "output_type": "execute_result",
          "data": {
            "text/plain": [
              "(6393, 4)"
            ]
          },
          "metadata": {},
          "execution_count": 68
        }
      ]
    },
    {
      "cell_type": "code",
      "source": [
        ""
      ],
      "metadata": {
        "trusted": true,
        "id": "UIzCNye-a_Qq"
      },
      "execution_count": null,
      "outputs": []
    },
    {
      "cell_type": "markdown",
      "source": [
        "##### Convert the vectors into scipy.sparse matrix"
      ],
      "metadata": {
        "id": "nHtXySePa_Qq"
      }
    },
    {
      "cell_type": "code",
      "source": [
        "from scipy.sparse import hstack"
      ],
      "metadata": {
        "trusted": true,
        "id": "UjAYsjWJa_Qq"
      },
      "execution_count": 69,
      "outputs": []
    },
    {
      "cell_type": "code",
      "source": [
        "x_tr=hstack((train_tweet,x_t))\n",
        "x_te=hstack((test_tweet,x_tests))\n",
        "\n",
        "print(x_tr.shape)\n",
        "print(x_te.shape)"
      ],
      "metadata": {
        "trusted": true,
        "colab": {
          "base_uri": "https://localhost:8080/"
        },
        "id": "CzUN3-TWa_Qq",
        "outputId": "be1a4b79-e21c-4443-cc48-1ce6e4058adf"
      },
      "execution_count": 70,
      "outputs": [
        {
          "output_type": "stream",
          "name": "stdout",
          "text": [
            "(25569, 2767)\n",
            "(6393, 2767)\n"
          ]
        }
      ]
    },
    {
      "cell_type": "markdown",
      "source": [
        "***Now we are ready with the data.***"
      ],
      "metadata": {
        "id": "P4MSCAXoa_Qq"
      }
    },
    {
      "cell_type": "markdown",
      "source": [
        "### DecisionTreeClassifier()"
      ],
      "metadata": {
        "id": "tj9mfUjEa_Qr"
      }
    },
    {
      "cell_type": "code",
      "source": [
        "#since the data is imbalanced , we assign some more weight to class 1\n",
        "\n",
        "wt={0:1,1:5}   \n",
        "clf=DecisionTreeClassifier(class_weight=wt)\n",
        "\n",
        "parameters=dict(max_depth=[1,5,10,50],min_samples_split=[5,10,100,500])\n",
        "\n",
        "search=RandomizedSearchCV(clf,parameters,random_state=10)\n",
        "result=search.fit(x_tr,y_train)\n",
        "result.cv_results_"
      ],
      "metadata": {
        "trusted": true,
        "colab": {
          "base_uri": "https://localhost:8080/"
        },
        "id": "HvqqxpAwa_Qr",
        "outputId": "6fef6523-4f7a-4a24-d70f-3bcb822051f7"
      },
      "execution_count": 71,
      "outputs": [
        {
          "output_type": "execute_result",
          "data": {
            "text/plain": [
              "{'mean_fit_time': array([0.10959167, 0.02849193, 0.9515389 , 0.10021701, 0.09959207,\n",
              "        0.20591493, 0.19249821, 0.02770481, 0.18987908, 1.03148174]),\n",
              " 'mean_score_time': array([0.00204287, 0.00185456, 0.00263848, 0.00162048, 0.00167136,\n",
              "        0.00176573, 0.00171633, 0.00162554, 0.00186882, 0.00280166]),\n",
              " 'mean_test_score': array([0.90625359, 0.81841286, 0.91145538, 0.90527585, 0.90578428,\n",
              "        0.9210375 , 0.9186518 , 0.81841286, 0.91724389, 0.92921114]),\n",
              " 'param_max_depth': masked_array(data=[5, 1, 50, 5, 5, 10, 10, 1, 10, 50],\n",
              "              mask=[False, False, False, False, False, False, False, False,\n",
              "                    False, False],\n",
              "        fill_value='?',\n",
              "             dtype=object),\n",
              " 'param_min_samples_split': masked_array(data=[10, 500, 100, 500, 100, 5, 100, 100, 500, 5],\n",
              "              mask=[False, False, False, False, False, False, False, False,\n",
              "                    False, False],\n",
              "        fill_value='?',\n",
              "             dtype=object),\n",
              " 'params': [{'max_depth': 5, 'min_samples_split': 10},\n",
              "  {'max_depth': 1, 'min_samples_split': 500},\n",
              "  {'max_depth': 50, 'min_samples_split': 100},\n",
              "  {'max_depth': 5, 'min_samples_split': 500},\n",
              "  {'max_depth': 5, 'min_samples_split': 100},\n",
              "  {'max_depth': 10, 'min_samples_split': 5},\n",
              "  {'max_depth': 10, 'min_samples_split': 100},\n",
              "  {'max_depth': 1, 'min_samples_split': 100},\n",
              "  {'max_depth': 10, 'min_samples_split': 500},\n",
              "  {'max_depth': 50, 'min_samples_split': 5}],\n",
              " 'rank_test_score': array([6, 9, 5, 8, 7, 2, 3, 9, 4, 1], dtype=int32),\n",
              " 'split0_test_score': array([0.90809542, 0.81638639, 0.91533047, 0.90711772, 0.90731326,\n",
              "        0.91396167, 0.91083301, 0.81638639, 0.90887759, 0.92980055]),\n",
              " 'split1_test_score': array([0.90594447, 0.82068831, 0.90946422, 0.90477122, 0.90594447,\n",
              "        0.92334767, 0.92100117, 0.82068831, 0.91728588, 0.92510755]),\n",
              " 'split2_test_score': array([0.90809542, 0.82088385, 0.9051623 , 0.90672663, 0.90731326,\n",
              "        0.91415722, 0.91200626, 0.82088385, 0.91122409, 0.92921392]),\n",
              " 'split3_test_score': array([0.90477122, 0.8173641 , 0.91337505, 0.90418459, 0.90438013,\n",
              "        0.92491201, 0.92295659, 0.8173641 , 0.92256551, 0.93312476]),\n",
              " 'split4_test_score': array([0.90436143, 0.81674164, 0.91394485, 0.90357911, 0.90397027,\n",
              "        0.92880892, 0.92646196, 0.81674164, 0.92626638, 0.92880892]),\n",
              " 'std_fit_time': array([0.00472023, 0.0004779 , 0.03181985, 0.00542608, 0.00255213,\n",
              "        0.00356006, 0.00336621, 0.00231833, 0.00260542, 0.02594339]),\n",
              " 'std_score_time': array([6.50961490e-05, 3.91417961e-05, 1.96552404e-04, 2.63356606e-05,\n",
              "        3.83334964e-05, 8.31541663e-05, 2.48025921e-05, 8.29951477e-05,\n",
              "        2.68862491e-04, 3.60758116e-05]),\n",
              " 'std_test_score': array([0.0015911 , 0.00196382, 0.00370044, 0.00140155, 0.00141163,\n",
              "        0.00596907, 0.00617003, 0.00196382, 0.00657206, 0.00255598])}"
            ]
          },
          "metadata": {},
          "execution_count": 71
        }
      ]
    },
    {
      "cell_type": "code",
      "source": [
        "search.best_params_"
      ],
      "metadata": {
        "trusted": true,
        "colab": {
          "base_uri": "https://localhost:8080/"
        },
        "id": "nQIil4Sna_Qr",
        "outputId": "86396bb3-1877-4a2c-f09e-51a9a00e3110"
      },
      "execution_count": 72,
      "outputs": [
        {
          "output_type": "execute_result",
          "data": {
            "text/plain": [
              "{'max_depth': 50, 'min_samples_split': 5}"
            ]
          },
          "metadata": {},
          "execution_count": 72
        }
      ]
    },
    {
      "cell_type": "code",
      "source": [
        "cls = DecisionTreeClassifier(max_depth=50,min_samples_split=5,random_state=10,class_weight=wt)\n",
        "cls.fit(x_tr,y_train)"
      ],
      "metadata": {
        "trusted": true,
        "colab": {
          "base_uri": "https://localhost:8080/"
        },
        "id": "k1ADWrWJa_Qr",
        "outputId": "6e97cfd6-d55b-47e4-83bc-d97acbf384da"
      },
      "execution_count": 74,
      "outputs": [
        {
          "output_type": "execute_result",
          "data": {
            "text/plain": [
              "DecisionTreeClassifier(class_weight={0: 1, 1: 5}, max_depth=50,\n",
              "                       min_samples_split=5, random_state=10)"
            ]
          },
          "metadata": {},
          "execution_count": 74
        }
      ]
    },
    {
      "cell_type": "code",
      "source": [
        "y_pred_train=cls.predict(x_tr)\n",
        "y_pred_test=cls.predict(x_te)"
      ],
      "metadata": {
        "trusted": true,
        "id": "3kADeET2a_Qr"
      },
      "execution_count": 76,
      "outputs": []
    },
    {
      "cell_type": "code",
      "source": [
        "train_fpr,train_tpr,tr_treshold=roc_curve(y_train,y_pred_train)\n",
        "test_fpr,test_tpr,te_treshold=roc_curve(y_test,y_pred_test)\n",
        "\n",
        "train_auc=auc(train_fpr,train_tpr)\n",
        "test_auc=auc(test_fpr,test_tpr)\n",
        "\n",
        "plt.plot(train_fpr,train_tpr,label='Train AUC = '+str(train_auc))\n",
        "plt.plot(test_fpr,test_tpr,label='Test AUC = '+str(test_auc))\n",
        "plt.legend()\n",
        "plt.xlabel('FPR')\n",
        "plt.ylabel('TPR')\n",
        "plt.title(\"AUC_Curve\")\n",
        "plt.grid()\n",
        "plt.show()"
      ],
      "metadata": {
        "trusted": true,
        "colab": {
          "base_uri": "https://localhost:8080/",
          "height": 295
        },
        "id": "FOlM5V44a_Qr",
        "outputId": "81934864-4317-40ee-defd-ffe0b28fd42a"
      },
      "execution_count": 31,
      "outputs": [
        {
          "output_type": "display_data",
          "data": {
            "text/plain": [
              "<Figure size 432x288 with 1 Axes>"
            ],
            "image/png": "[encoded data removed]"
          },
          "metadata": {
            "needs_background": "light"
          }
        }
      ]
    },
    {
      "cell_type": "markdown",
      "source": [
        "***We got auc score= 0.7625***"
      ],
      "metadata": {
        "id": "6uVmwNkla_Qr"
      }
    },
    {
      "cell_type": "code",
      "source": [
        "#best threshold value that will give the least fpr\n",
        "\n",
        "def find_best_threshold(threshold, fpr, tpr):\n",
        "\n",
        "    t = threshold[np.argmax(tpr*(1-fpr))]\n",
        "    \n",
        "    # (tpr*(1-fpr)) will be maximum if our fpr is very low and tpr is very high\n",
        "\n",
        "    print(\"the maximum value of tpr*(1-fpr)\", max(tpr*(1-fpr)), \"for threshold\", np.round(t,3))\n",
        "    \n",
        "    return t\n",
        "\n",
        "#this will give predictions based on best threshold value\n",
        "\n",
        "def predict_with_best_t(proba, threshold):\n",
        "\n",
        "    predictions = []\n",
        "    for i in proba:\n",
        "        if i>=threshold:\n",
        "            predictions.append(1)\n",
        "        else:\n",
        "            predictions.append(0)\n",
        "    return predictions"
      ],
      "metadata": {
        "trusted": true,
        "id": "T93RUn0Wa_Qr"
      },
      "execution_count": 77,
      "outputs": []
    },
    {
      "cell_type": "code",
      "source": [
        "#computing confusion matrix for set_1\n",
        "\n",
        "from sklearn.metrics import confusion_matrix\n",
        "\n",
        "best_t = find_best_threshold(tr_treshold, train_fpr, train_tpr)\n",
        "print(\"Train confusion matrix\")\n",
        "\n",
        "m_tr=(confusion_matrix(y_train, predict_with_best_t(y_pred_train, best_t)))\n",
        "print(m_tr)\n",
        "print(\"Test confusion matrix\")\n",
        "\n",
        "m_te=(confusion_matrix(y_test, predict_with_best_t(y_pred_test, best_t)))\n",
        "print(m_te)"
      ],
      "metadata": {
        "trusted": true,
        "colab": {
          "base_uri": "https://localhost:8080/"
        },
        "id": "-D7C1_f6a_Qs",
        "outputId": "1bceeced-f638-46d8-9d43-f7cbdb7ad48b"
      },
      "execution_count": 79,
      "outputs": [
        {
          "output_type": "stream",
          "name": "stdout",
          "text": [
            "the maximum value of tpr*(1-fpr) 0.6836258729003208 for threshold 1\n",
            "Train confusion matrix\n",
            "[[23470   305]\n",
            " [  243  1551]]\n",
            "Test confusion matrix\n",
            "[[5670  275]\n",
            " [ 192  256]]\n"
          ]
        }
      ]
    },
    {
      "cell_type": "code",
      "source": [
        "print(classification_report(y_test, y_pred_test))"
      ],
      "metadata": {
        "trusted": true,
        "colab": {
          "base_uri": "https://localhost:8080/"
        },
        "id": "iPd8Xsoya_Qs",
        "outputId": "b9183f59-1058-4646-c3b8-9ecdac913383"
      },
      "execution_count": 80,
      "outputs": [
        {
          "output_type": "stream",
          "name": "stdout",
          "text": [
            "              precision    recall  f1-score   support\n",
            "\n",
            "           0       0.97      0.95      0.96      5945\n",
            "           1       0.48      0.57      0.52       448\n",
            "\n",
            "    accuracy                           0.93      6393\n",
            "   macro avg       0.72      0.76      0.74      6393\n",
            "weighted avg       0.93      0.93      0.93      6393\n",
            "\n"
          ]
        }
      ]
    },
    {
      "cell_type": "markdown",
      "source": [
        "## NAIVE BAYES"
      ],
      "metadata": {
        "id": "nxpVQDMNa_Qs"
      }
    },
    {
      "cell_type": "markdown",
      "source": [
        "### CountVectorizer()"
      ],
      "metadata": {
        "id": "kf4efOnna_Qs"
      }
    },
    {
      "cell_type": "code",
      "source": [
        "vec=CountVectorizer(min_df=10)\n",
        "vec.fit(x_train['tweet'].values)\n",
        "\n",
        "x_tr_count=vec.transform(x_train['tweet'].values)\n",
        "x_te_count=vec.transform(x_test['tweet'].values)\n",
        "x_tr_count.shape"
      ],
      "metadata": {
        "trusted": true,
        "colab": {
          "base_uri": "https://localhost:8080/"
        },
        "id": "THPw1WG2a_Qs",
        "outputId": "8d660385-9878-4822-d12c-21c201083575"
      },
      "execution_count": 82,
      "outputs": [
        {
          "output_type": "execute_result",
          "data": {
            "text/plain": [
              "(25569, 2763)"
            ]
          },
          "metadata": {},
          "execution_count": 82
        }
      ]
    },
    {
      "cell_type": "code",
      "source": [
        "x_tr_data=hstack((x_tr_count,x_t))\n",
        "x_te_data=hstack((x_te_count,x_tests))\n",
        "\n",
        "x_trn=scipy.sparse.csr_matrix(x_tr_count)\n",
        "x_tst=scipy.sparse.csr_matrix(x_te_count)"
      ],
      "metadata": {
        "trusted": true,
        "id": "8x6jb8xHa_Qs"
      },
      "execution_count": 83,
      "outputs": []
    },
    {
      "cell_type": "code",
      "source": [
        "from sklearn.naive_bayes import MultinomialNB"
      ],
      "metadata": {
        "trusted": true,
        "id": "yE3U7Piwa_Qs"
      },
      "execution_count": 84,
      "outputs": []
    },
    {
      "cell_type": "code",
      "source": [
        "mod = MultinomialNB()\n",
        "mod.fit(x_trn,y_train)"
      ],
      "metadata": {
        "trusted": true,
        "colab": {
          "base_uri": "https://localhost:8080/"
        },
        "id": "j3lZ8Fs0a_Qs",
        "outputId": "6a4a148a-8f78-43ca-9b6b-5712f4a4e9af"
      },
      "execution_count": 85,
      "outputs": [
        {
          "output_type": "execute_result",
          "data": {
            "text/plain": [
              "MultinomialNB()"
            ]
          },
          "metadata": {},
          "execution_count": 85
        }
      ]
    },
    {
      "cell_type": "code",
      "source": [
        "train_pred=mod.predict(x_trn)\n",
        "test_pred=mod.predict(x_tst)"
      ],
      "metadata": {
        "trusted": true,
        "id": "RNcl3FVta_Qs"
      },
      "execution_count": 86,
      "outputs": []
    },
    {
      "cell_type": "code",
      "source": [
        "train_fpr,train_tpr,tr_treshold=roc_curve(y_train,train_pred)\n",
        "test_fpr,test_tpr,te_treshold=roc_curve(y_test,test_pred)\n",
        "\n",
        "train_auc=auc(train_fpr,train_tpr)\n",
        "test_auc=auc(test_fpr,test_tpr)\n",
        "\n",
        "plt.plot(train_fpr,train_tpr,label='Train AUC = '+str(train_auc))\n",
        "plt.plot(test_fpr,test_tpr,label='Test AUC = '+str(test_auc))\n",
        "plt.legend()\n",
        "plt.xlabel('FPR')\n",
        "plt.ylabel('TPR')\n",
        "plt.title(\"AUC_Curve\")\n",
        "plt.grid()\n",
        "plt.show()"
      ],
      "metadata": {
        "trusted": true,
        "colab": {
          "base_uri": "https://localhost:8080/",
          "height": 295
        },
        "id": "2cfOCY5Xa_Qs",
        "outputId": "d6db332c-7bc5-47f8-a4e7-87930e61e93d"
      },
      "execution_count": 87,
      "outputs": [
        {
          "output_type": "display_data",
          "data": {
            "text/plain": [
              "<Figure size 432x288 with 1 Axes>"
            ],
            "image/png": "[encoded data removed]"
          },
          "metadata": {
            "needs_background": "light"
          }
        }
      ]
    },
    {
      "cell_type": "markdown",
      "source": [
        "***TEST AUC = 0.8157***"
      ],
      "metadata": {
        "id": "C8qoUJn8a_Qt"
      }
    },
    {
      "cell_type": "code",
      "source": [
        "#get the summary of this model\n",
        "\n",
        "print(classification_report(y_test, test_pred))"
      ],
      "metadata": {
        "trusted": true,
        "colab": {
          "base_uri": "https://localhost:8080/"
        },
        "id": "6rh7tc7La_Qt",
        "outputId": "cb2f5301-8d65-449c-a96e-4206d9062b1a"
      },
      "execution_count": 88,
      "outputs": [
        {
          "output_type": "stream",
          "name": "stdout",
          "text": [
            "              precision    recall  f1-score   support\n",
            "\n",
            "           0       0.97      0.97      0.97      5945\n",
            "           1       0.63      0.66      0.64       448\n",
            "\n",
            "    accuracy                           0.95      6393\n",
            "   macro avg       0.80      0.82      0.81      6393\n",
            "weighted avg       0.95      0.95      0.95      6393\n",
            "\n"
          ]
        }
      ]
    },
    {
      "cell_type": "markdown",
      "source": [
        "## SUMMARY"
      ],
      "metadata": {
        "id": "VdUXvEqAa_Qu"
      }
    },
    {
      "cell_type": "code",
      "source": [
        ""
      ],
      "metadata": {
        "id": "LwFYl9d-0mL8"
      },
      "execution_count": null,
      "outputs": []
    },
    {
      "cell_type": "markdown",
      "source": [
        "|MODEL|TEST AUC|\n",
        "|----|----|\n",
        "|DECISION TREE|0.7625|\n",
        "|NAIVE BAYES|0.8157|\n"
      ],
      "metadata": {
        "id": "xoWH8DBua_Qv"
      }
    },
    {
      "cell_type": "code",
      "source": [
        ""
      ],
      "metadata": {
        "trusted": true,
        "id": "h8IqJkQ5a_Qv"
      },
      "execution_count": null,
      "outputs": []
    }
  ]
}